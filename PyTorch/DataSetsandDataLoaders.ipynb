{
 "cells": [
  {
   "cell_type": "code",
   "execution_count": 1,
   "id": "4ce803b5",
   "metadata": {},
   "outputs": [],
   "source": [
    "import torch\n",
    "from torch.utils.data import Dataset\n",
    "from torchvision import datasets\n",
    "from torchvision.transforms import ToTensor\n",
    "import matplotlib.pyplot as plt"
   ]
  },
  {
   "cell_type": "code",
   "execution_count": 2,
   "id": "c409146f",
   "metadata": {},
   "outputs": [
    {
     "name": "stdout",
     "output_type": "stream",
     "text": [
      "Downloading http://fashion-mnist.s3-website.eu-central-1.amazonaws.com/train-images-idx3-ubyte.gz\n",
      "Downloading http://fashion-mnist.s3-website.eu-central-1.amazonaws.com/train-images-idx3-ubyte.gz to data\\FashionMNIST\\raw\\train-images-idx3-ubyte.gz\n"
     ]
    },
    {
     "data": {
      "application/vnd.jupyter.widget-view+json": {
       "model_id": "437f237167a34d46b542194bf7b1e5cc",
       "version_major": 2,
       "version_minor": 0
      },
      "text/plain": [
       "  0%|          | 0/26421880 [00:00<?, ?it/s]"
      ]
     },
     "metadata": {},
     "output_type": "display_data"
    },
    {
     "name": "stdout",
     "output_type": "stream",
     "text": [
      "Extracting data\\FashionMNIST\\raw\\train-images-idx3-ubyte.gz to data\\FashionMNIST\\raw\n",
      "\n",
      "Downloading http://fashion-mnist.s3-website.eu-central-1.amazonaws.com/train-labels-idx1-ubyte.gz\n",
      "Downloading http://fashion-mnist.s3-website.eu-central-1.amazonaws.com/train-labels-idx1-ubyte.gz to data\\FashionMNIST\\raw\\train-labels-idx1-ubyte.gz\n"
     ]
    },
    {
     "data": {
      "application/vnd.jupyter.widget-view+json": {
       "model_id": "59379b59e21344f3b2f54fb81ca36ae9",
       "version_major": 2,
       "version_minor": 0
      },
      "text/plain": [
       "  0%|          | 0/29515 [00:00<?, ?it/s]"
      ]
     },
     "metadata": {},
     "output_type": "display_data"
    },
    {
     "name": "stdout",
     "output_type": "stream",
     "text": [
      "Extracting data\\FashionMNIST\\raw\\train-labels-idx1-ubyte.gz to data\\FashionMNIST\\raw\n",
      "\n",
      "Downloading http://fashion-mnist.s3-website.eu-central-1.amazonaws.com/t10k-images-idx3-ubyte.gz\n",
      "Downloading http://fashion-mnist.s3-website.eu-central-1.amazonaws.com/t10k-images-idx3-ubyte.gz to data\\FashionMNIST\\raw\\t10k-images-idx3-ubyte.gz\n"
     ]
    },
    {
     "data": {
      "application/vnd.jupyter.widget-view+json": {
       "model_id": "229f5aa3763f4a7989a08c4730fa1279",
       "version_major": 2,
       "version_minor": 0
      },
      "text/plain": [
       "  0%|          | 0/4422102 [00:00<?, ?it/s]"
      ]
     },
     "metadata": {},
     "output_type": "display_data"
    },
    {
     "name": "stdout",
     "output_type": "stream",
     "text": [
      "Extracting data\\FashionMNIST\\raw\\t10k-images-idx3-ubyte.gz to data\\FashionMNIST\\raw\n",
      "\n",
      "Downloading http://fashion-mnist.s3-website.eu-central-1.amazonaws.com/t10k-labels-idx1-ubyte.gz\n",
      "Downloading http://fashion-mnist.s3-website.eu-central-1.amazonaws.com/t10k-labels-idx1-ubyte.gz to data\\FashionMNIST\\raw\\t10k-labels-idx1-ubyte.gz\n"
     ]
    },
    {
     "data": {
      "application/vnd.jupyter.widget-view+json": {
       "model_id": "7d4e1eb7c9734ff9a110e564365f56ff",
       "version_major": 2,
       "version_minor": 0
      },
      "text/plain": [
       "  0%|          | 0/5148 [00:00<?, ?it/s]"
      ]
     },
     "metadata": {},
     "output_type": "display_data"
    },
    {
     "name": "stdout",
     "output_type": "stream",
     "text": [
      "Extracting data\\FashionMNIST\\raw\\t10k-labels-idx1-ubyte.gz to data\\FashionMNIST\\raw\n",
      "\n"
     ]
    }
   ],
   "source": [
    "#get the dataset\n",
    "\n",
    "train_data=datasets.FashionMNIST(\n",
    "    root=\"data\",\n",
    "    train=True,\n",
    "    download=True,\n",
    "    transform=ToTensor()\n",
    ")\n",
    "\n",
    "test_data=datasets.FashionMNIST(\n",
    "    root=\"data\",\n",
    "    train=False,\n",
    "    download=True,\n",
    "    transform=ToTensor()\n",
    ")"
   ]
  },
  {
   "cell_type": "code",
   "execution_count": 5,
   "id": "057d1900",
   "metadata": {},
   "outputs": [],
   "source": [
    "labels_map = {\n",
    "    0: \"T-Shirt\",\n",
    "    1: \"Trouser\",\n",
    "    2: \"Pullover\",\n",
    "    3: \"Dress\",\n",
    "    4: \"Coat\",\n",
    "    5: \"Sandal\",\n",
    "    6: \"Shirt\",\n",
    "    7: \"Sneaker\",\n",
    "    8: \"Bag\",\n",
    "    9: \"Ankle Boot\",\n",
    "}"
   ]
  },
  {
   "cell_type": "code",
   "execution_count": 13,
   "id": "bebc8c22",
   "metadata": {},
   "outputs": [
    {
     "data": {
      "image/png": "[encoded data removed]",
      "text/plain": [
       "<Figure size 576x576 with 9 Axes>"
      ]
     },
     "metadata": {
      "needs_background": "light"
     },
     "output_type": "display_data"
    }
   ],
   "source": [
    "figur=plt.figure(figsize=(8,8));\n",
    "cols,rows =3,3\n",
    "\n",
    "for i in range(1,cols*rows+1):\n",
    "    sample_idx = torch.randint(len(train_data),size=(1,)).item()\n",
    "    img, label= train_data[sample_idx]\n",
    "    figur.add_subplot(rows,cols,i)\n",
    "    plt.title(labels_map[label])\n",
    "    plt.axis(\"off\")\n",
    "    plt.imshow(img.squeeze(),cmap=\"gray\")\n",
    "plt.show()"
   ]
  },
  {
   "cell_type": "code",
   "execution_count": 14,
   "id": "613cddf8",
   "metadata": {},
   "outputs": [
    {
     "data": {
      "text/plain": [
       "(tensor([[[0.0000, 0.0000, 0.0000, 0.0000, 0.0000, 0.0000, 0.0000, 0.0000,\n",
       "           0.0000, 0.0000, 0.0000, 0.0000, 0.0000, 0.0000, 0.0000, 0.0000,\n",
       "           0.0000, 0.0000, 0.0000, 0.0000, 0.0000, 0.0000, 0.0000, 0.0000,\n",
       "           0.0000, 0.0000, 0.0000, 0.0000],\n",
       "          [0.0000, 0.0000, 0.0000, 0.0000, 0.0000, 0.0000, 0.0000, 0.0000,\n",
       "           0.0000, 0.0000, 0.0000, 0.0000, 0.0000, 0.0000, 0.0000, 0.0000,\n",
       "           0.0000, 0.0000, 0.0000, 0.0000, 0.0000, 0.0000, 0.0000, 0.0000,\n",
       "           0.0000, 0.0000, 0.0000, 0.0000],\n",
       "          [0.0000, 0.0000, 0.0000, 0.0000, 0.0000, 0.0000, 0.0000, 0.0000,\n",
       "           0.0000, 0.0000, 0.0000, 0.0000, 0.0000, 0.0039, 0.0039, 0.0000,\n",
       "           0.0000, 0.0000, 0.0000, 0.0000, 0.0000, 0.0000, 0.6431, 0.1961,\n",
       "           0.0000, 0.0275, 0.0000, 0.0000],\n",
       "          [0.0000, 0.0000, 0.0000, 0.0000, 0.0000, 0.0000, 0.0000, 0.0000,\n",
       "           0.0039, 0.0000, 0.0000, 0.0039, 0.0000, 0.0000, 0.0039, 0.0039,\n",
       "           0.0000, 0.0000, 0.0196, 0.0000, 0.1765, 0.8510, 1.0000, 0.6902,\n",
       "           0.0000, 0.0235, 0.0000, 0.0000],\n",
       "          [0.0000, 0.0000, 0.0000, 0.0000, 0.0000, 0.0000, 0.0000, 0.0000,\n",
       "           0.0000, 0.0039, 0.0039, 0.0000, 0.0118, 0.0118, 0.0196, 0.0353,\n",
       "           0.0000, 0.0078, 0.0000, 0.2431, 0.9255, 0.9059, 0.8431, 0.1059,\n",
       "           0.0000, 0.0039, 0.0000, 0.0000],\n",
       "          [0.0000, 0.0000, 0.0000, 0.0000, 0.0000, 0.0000, 0.0000, 0.0000,\n",
       "           0.0000, 0.0000, 0.0000, 0.0000, 0.0000, 0.0000, 0.0000, 0.0000,\n",
       "           0.0000, 0.0000, 0.1137, 0.9569, 0.9059, 0.9176, 0.2902, 0.0000,\n",
       "           0.0039, 0.0000, 0.0000, 0.0000],\n",
       "          [0.0000, 0.0000, 0.0000, 0.0000, 0.0000, 0.0000, 0.0000, 0.0000,\n",
       "           0.0000, 0.0078, 0.0000, 0.0000, 0.0000, 0.0902, 0.1608, 0.2314,\n",
       "           0.4353, 0.5255, 0.5412, 0.8863, 0.7922, 0.8510, 0.0863, 0.0000,\n",
       "           0.0039, 0.0000, 0.0000, 0.0000],\n",
       "          [0.0000, 0.0000, 0.0000, 0.0000, 0.0000, 0.0000, 0.0000, 0.0000,\n",
       "           0.0000, 0.0196, 0.0000, 0.1373, 0.7020, 0.7647, 0.7137, 0.8824,\n",
       "           0.7765, 0.9451, 0.6941, 0.7804, 0.8039, 0.8235, 0.1020, 0.0000,\n",
       "           0.0039, 0.0000, 0.0000, 0.0118],\n",
       "          [0.0000, 0.0000, 0.0000, 0.0000, 0.0000, 0.0000, 0.0000, 0.0000,\n",
       "           0.0000, 0.0000, 0.0000, 0.0000, 0.0745, 0.0000, 0.0000, 0.0000,\n",
       "           0.0000, 0.0000, 0.9216, 0.9529, 0.7765, 0.4667, 0.0000, 0.0118,\n",
       "           0.0039, 0.0118, 0.0157, 0.0000],\n",
       "          [0.0000, 0.0000, 0.0000, 0.0000, 0.0000, 0.0000, 0.0000, 0.0000,\n",
       "           0.0000, 0.0000, 0.0000, 0.0000, 0.0000, 0.0078, 0.0196, 0.0000,\n",
       "           0.0000, 0.0000, 0.6667, 0.9882, 0.7098, 0.7137, 0.0000, 0.0000,\n",
       "           0.0000, 0.0000, 0.0000, 0.0745],\n",
       "          [0.0000, 0.0000, 0.0000, 0.0000, 0.0000, 0.0000, 0.0000, 0.0000,\n",
       "           0.0000, 0.0000, 0.0000, 0.0000, 0.0039, 0.0039, 0.0000, 0.0000,\n",
       "           0.0157, 0.0000, 0.2980, 1.0000, 0.7176, 0.8588, 0.0353, 0.0000,\n",
       "           0.0000, 0.1647, 0.7490, 0.6431],\n",
       "          [0.0000, 0.0000, 0.0000, 0.0000, 0.0000, 0.0000, 0.0000, 0.0000,\n",
       "           0.0000, 0.0000, 0.0000, 0.0000, 0.0000, 0.0000, 0.0000, 0.0000,\n",
       "           0.0078, 0.0000, 0.0000, 0.9294, 0.7765, 0.8000, 0.2941, 0.1843,\n",
       "           0.8667, 0.8667, 0.9333, 0.0980],\n",
       "          [0.0000, 0.0000, 0.0000, 0.0000, 0.0000, 0.0000, 0.0000, 0.0000,\n",
       "           0.0000, 0.0000, 0.0000, 0.0039, 0.0000, 0.0000, 0.0039, 0.0078,\n",
       "           0.0039, 0.0000, 0.0000, 0.8196, 0.8314, 0.8980, 1.0000, 0.9961,\n",
       "           0.9098, 0.8902, 0.6824, 0.0000],\n",
       "          [0.0000, 0.0000, 0.0000, 0.0000, 0.0000, 0.0000, 0.0000, 0.0000,\n",
       "           0.0000, 0.0000, 0.0000, 0.0000, 0.0000, 0.0000, 0.0039, 0.0000,\n",
       "           0.0000, 0.0000, 0.0000, 0.0000, 0.8235, 1.0000, 0.3412, 0.3961,\n",
       "           0.9020, 0.9333, 0.4118, 0.0000],\n",
       "          [0.0000, 0.0000, 0.0000, 0.0000, 0.0000, 0.0000, 0.0000, 0.0000,\n",
       "           0.0000, 0.0000, 0.0000, 0.0000, 0.0000, 0.0039, 0.0000, 0.0157,\n",
       "           0.0039, 0.0000, 0.0039, 0.9804, 0.9255, 0.0000, 0.0000, 0.0000,\n",
       "           0.8784, 0.9137, 0.0784, 0.0000],\n",
       "          [0.0000, 0.0000, 0.0000, 0.0000, 0.0000, 0.0039, 0.0118, 0.0157,\n",
       "           0.0157, 0.0078, 0.0000, 0.0000, 0.0000, 0.0039, 0.0000, 0.0078,\n",
       "           0.0000, 0.0000, 0.8000, 0.7255, 0.0000, 0.0000, 0.0000, 0.0235,\n",
       "           0.8902, 0.7922, 0.0000, 0.0000],\n",
       "          [0.0000, 0.0039, 0.0000, 0.0039, 0.0000, 0.0000, 0.0000, 0.0000,\n",
       "           0.0000, 0.0000, 0.0000, 0.0000, 0.0000, 0.0039, 0.0000, 0.0000,\n",
       "           0.0000, 0.6784, 0.6235, 0.0000, 0.0000, 0.0078, 0.0000, 0.0392,\n",
       "           0.9294, 0.6000, 0.0000, 0.0000],\n",
       "          [0.0000, 0.0000, 0.0039, 0.0000, 0.0000, 0.0000, 0.0000, 0.1569,\n",
       "           0.5412, 0.0824, 0.0000, 0.0000, 0.0078, 0.0000, 0.0314, 0.0000,\n",
       "           0.5176, 0.7647, 0.0000, 0.0000, 0.0000, 0.0000, 0.0000, 0.0314,\n",
       "           0.9412, 0.4627, 0.0000, 0.0039],\n",
       "          [0.0196, 0.0235, 0.0157, 0.0000, 0.5176, 0.9098, 0.8157, 0.8157,\n",
       "           0.9451, 0.8510, 0.0000, 0.0000, 0.0000, 0.0039, 0.0000, 0.1137,\n",
       "           0.8510, 0.1373, 0.0000, 0.0353, 0.0000, 0.0078, 0.0000, 0.0980,\n",
       "           0.9333, 0.2275, 0.0000, 0.0078],\n",
       "          [0.0000, 0.0000, 0.0000, 0.0000, 0.7098, 1.0000, 0.9059, 0.9137,\n",
       "           0.8588, 0.9333, 0.3020, 0.0000, 0.0000, 0.0000, 0.0000, 0.7686,\n",
       "           0.5686, 0.0000, 0.0000, 0.0000, 0.0000, 0.0078, 0.0000, 0.1922,\n",
       "           0.8941, 0.0000, 0.0000, 0.0078],\n",
       "          [0.2431, 0.3608, 0.0314, 0.0000, 0.8118, 1.0000, 0.8471, 0.7765,\n",
       "           0.7412, 0.8157, 0.8667, 0.0000, 0.0000, 0.0000, 0.6941, 0.9373,\n",
       "           0.0745, 0.0000, 0.0000, 0.0000, 0.0000, 0.0078, 0.0000, 0.2510,\n",
       "           0.8549, 0.0000, 0.0000, 0.0118],\n",
       "          [0.3765, 0.9765, 0.8745, 0.8275, 0.9294, 0.9529, 0.8275, 0.8941,\n",
       "           1.0000, 0.9882, 1.0000, 0.5412, 0.1490, 0.6863, 0.9490, 0.6784,\n",
       "           0.0000, 0.0000, 0.0000, 0.0000, 0.0000, 0.0078, 0.0000, 0.3490,\n",
       "           0.8000, 0.0000, 0.0000, 0.0078],\n",
       "          [0.0000, 0.7725, 0.9412, 0.9412, 0.9294, 0.8588, 0.8706, 0.9569,\n",
       "           0.9216, 0.9529, 0.9569, 1.0000, 1.0000, 0.9176, 0.9137, 0.1765,\n",
       "           0.0000, 0.0078, 0.0000, 0.0000, 0.0000, 0.0078, 0.0000, 0.4118,\n",
       "           0.7373, 0.0000, 0.0000, 0.0000],\n",
       "          [0.0000, 0.6471, 0.9922, 0.8784, 0.8980, 0.9490, 0.9569, 0.9098,\n",
       "           0.9373, 0.9490, 0.9529, 0.9294, 0.9020, 0.9020, 0.8118, 0.0000,\n",
       "           0.0000, 0.0039, 0.0000, 0.0000, 0.0000, 0.0353, 0.0000, 0.4706,\n",
       "           0.6471, 0.0000, 0.0314, 0.0000],\n",
       "          [0.0000, 0.1765, 1.0000, 0.9882, 0.9922, 0.9451, 0.8980, 0.8745,\n",
       "           0.9020, 0.9216, 0.9412, 0.9373, 0.9137, 0.9608, 0.2549, 0.0000,\n",
       "           0.0078, 0.0000, 0.0000, 0.0000, 0.0000, 0.0392, 0.0000, 0.5020,\n",
       "           0.5608, 0.0000, 0.0392, 0.0000],\n",
       "          [0.0000, 0.0000, 0.0000, 0.2824, 0.7922, 1.0000, 1.0000, 1.0000,\n",
       "           1.0000, 1.0000, 1.0000, 1.0000, 1.0000, 0.7608, 0.0000, 0.0000,\n",
       "           0.0078, 0.0000, 0.0000, 0.0000, 0.0000, 0.0314, 0.0000, 0.7294,\n",
       "           0.6275, 0.0000, 0.0353, 0.0000],\n",
       "          [0.0000, 0.0000, 0.0000, 0.0000, 0.0000, 0.0000, 0.1490, 0.3490,\n",
       "           0.5294, 0.6353, 0.7059, 0.7020, 0.5961, 0.0000, 0.0000, 0.0039,\n",
       "           0.0000, 0.0000, 0.0000, 0.0000, 0.0000, 0.0039, 0.0000, 0.2667,\n",
       "           0.1137, 0.0000, 0.0118, 0.0000],\n",
       "          [0.0000, 0.0000, 0.0000, 0.0000, 0.0000, 0.0000, 0.0000, 0.0000,\n",
       "           0.0000, 0.0000, 0.0000, 0.0000, 0.0000, 0.0000, 0.0000, 0.0000,\n",
       "           0.0000, 0.0000, 0.0000, 0.0000, 0.0000, 0.0000, 0.0000, 0.0000,\n",
       "           0.0000, 0.0000, 0.0000, 0.0000]]]),\n",
       " 5)"
      ]
     },
     "execution_count": 14,
     "metadata": {},
     "output_type": "execute_result"
    }
   ],
   "source": [
    "train_data[9]\n",
    "\n"
   ]
  },
  {
   "cell_type": "code",
   "execution_count": null,
   "id": "7849e208",
   "metadata": {},
   "outputs": [],
   "source": []
  }
 ],
 "metadata": {
  "kernelspec": {
   "display_name": "Python 3 (ipykernel)",
   "language": "python",
   "name": "python3"
  },
  "language_info": {
   "codemirror_mode": {
    "name": "ipython",
    "version": 3
   },
   "file_extension": ".py",
   "mimetype": "text/x-python",
   "name": "python",
   "nbconvert_exporter": "python",
   "pygments_lexer": "ipython3",
   "version": "3.9.7"
  }
 },
 "nbformat": 4,
 "nbformat_minor": 5
}
