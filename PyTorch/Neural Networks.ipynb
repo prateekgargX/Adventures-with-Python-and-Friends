{
 "cells": [
  {
   "cell_type": "code",
   "execution_count": 4,
   "id": "dac01bd3",
   "metadata": {},
   "outputs": [],
   "source": [
    "import os\n",
    "import torch\n",
    "from torch import nn\n",
    "from torch.utils.data import DataLoader\n",
    "from torchvision import datasets, transforms"
   ]
  },
  {
   "cell_type": "code",
   "execution_count": 5,
   "id": "dfa12d87",
   "metadata": {},
   "outputs": [
    {
     "name": "stdout",
     "output_type": "stream",
     "text": [
      "Using cpu device\n"
     ]
    }
   ],
   "source": [
    "device = 'cuda' if torch.cuda.is_available() else 'cpu'\n",
    "print(f'Using {device} device')"
   ]
  },
  {
   "cell_type": "code",
   "execution_count": 10,
   "id": "01a3bccd",
   "metadata": {},
   "outputs": [],
   "source": [
    "class NeuralNetwork(nn.Module):\n",
    "    def __init__(self):\n",
    "        super(NeuralNetwork, self).__init__()\n",
    "        self.flatten =nn.Flatten()\n",
    "        self.linear_relu_stack= nn.Sequential(\n",
    "            nn.Linear(28*28,512),\n",
    "            nn.ReLU(),\n",
    "            nn.Linear(512, 512),\n",
    "            nn.ReLU(),\n",
    "            nn.Linear(512, 10),\n",
    "        )\n",
    "    def forward(self, x):\n",
    "        x = self.flatten(x)\n",
    "        logits = self.linear_relu_stack(x)\n",
    "        return logits"
   ]
  },
  {
   "cell_type": "code",
   "execution_count": 11,
   "id": "290221d6",
   "metadata": {
    "scrolled": false
   },
   "outputs": [
    {
     "name": "stdout",
     "output_type": "stream",
     "text": [
      "NeuralNetwork(\n",
      "  (flatten): Flatten(start_dim=1, end_dim=-1)\n",
      "  (linear_relu_stack): Sequential(\n",
      "    (0): Linear(in_features=784, out_features=512, bias=True)\n",
      "    (1): ReLU()\n",
      "    (2): Linear(in_features=512, out_features=512, bias=True)\n",
      "    (3): ReLU()\n",
      "    (4): Linear(in_features=512, out_features=10, bias=True)\n",
      "  )\n",
      ")\n"
     ]
    }
   ],
   "source": [
    "model = NeuralNetwork().to(device)\n",
    "print(model)\n"
   ]
  },
  {
   "cell_type": "code",
   "execution_count": 12,
   "id": "cdefc0fc",
   "metadata": {},
   "outputs": [
    {
     "name": "stdout",
     "output_type": "stream",
     "text": [
      "Predicted class: tensor([8])\n"
     ]
    }
   ],
   "source": [
    "X= torch.rand(1,28,28,device=device)\n",
    "logits =model(X)\n",
    "pred_probab= nn.Softmax(dim=1)(logits)\n",
    "y_pred=pred_probab.argmax(1)\n",
    "print(f\"Predicted class: {y_pred}\")"
   ]
  },
  {
   "cell_type": "code",
   "execution_count": 13,
   "id": "d6b8fd2f",
   "metadata": {},
   "outputs": [
    {
     "name": "stdout",
     "output_type": "stream",
     "text": [
      "torch.Size([3, 28, 28])\n"
     ]
    }
   ],
   "source": [
    "input_image = torch.rand(3,28,28)\n",
    "print(input_image.size())"
   ]
  },
  {
   "cell_type": "code",
   "execution_count": 14,
   "id": "71a2dfd4",
   "metadata": {},
   "outputs": [
    {
     "name": "stdout",
     "output_type": "stream",
     "text": [
      "torch.Size([3, 784])\n"
     ]
    }
   ],
   "source": [
    "flatten = nn.Flatten()\n",
    "flat_image = flatten(input_image)\n",
    "print(flat_image.size())"
   ]
  },
  {
   "cell_type": "code",
   "execution_count": 15,
   "id": "3fb30c57",
   "metadata": {},
   "outputs": [
    {
     "name": "stdout",
     "output_type": "stream",
     "text": [
      "torch.Size([3, 20])\n"
     ]
    }
   ],
   "source": [
    "layer1 = nn.Linear(in_features=28*28, out_features=20)\n",
    "hidden1 = layer1(flat_image)\n",
    "print(hidden1.size())"
   ]
  },
  {
   "cell_type": "code",
   "execution_count": 16,
   "id": "1a080eae",
   "metadata": {},
   "outputs": [
    {
     "name": "stdout",
     "output_type": "stream",
     "text": [
      "Before ReLU: tensor([[-6.0494e-01,  1.5589e-02, -5.4800e-01,  1.2418e-01, -1.9599e-01,\n",
      "          1.8620e-01,  5.6898e-02, -1.5631e-01,  7.8365e-01, -2.7592e-01,\n",
      "          1.6633e-01,  5.1398e-01, -3.5202e-01, -4.8872e-01, -2.5168e-01,\n",
      "          1.9540e-01,  1.0656e-01, -3.0871e-01,  1.4650e-02, -2.5352e-01],\n",
      "        [-8.2925e-01, -8.8011e-02, -2.8416e-01,  6.0288e-03,  1.1923e-01,\n",
      "          8.7589e-02,  6.2215e-02, -1.0064e-01,  5.9404e-01,  7.5650e-02,\n",
      "         -2.9603e-01,  2.8838e-01, -3.8655e-01, -1.0767e-01, -6.9614e-02,\n",
      "          2.8513e-01,  3.0594e-01, -1.0252e-01,  1.4998e-01, -2.3949e-01],\n",
      "        [-4.5813e-01,  1.1498e-01, -5.2936e-01, -7.5679e-02,  3.8678e-02,\n",
      "          1.5585e-01, -7.6070e-02, -3.3411e-02,  2.7386e-01, -4.7072e-02,\n",
      "          1.4327e-01,  7.6586e-01, -7.1717e-01, -6.2919e-01, -2.0688e-01,\n",
      "          5.9622e-01, -8.7941e-02, -1.0922e-01, -2.8884e-04, -4.3004e-02]],\n",
      "       grad_fn=<AddmmBackward0>)\n",
      "\n",
      "\n",
      "After ReLU: tensor([[0.0000, 0.0156, 0.0000, 0.1242, 0.0000, 0.1862, 0.0569, 0.0000, 0.7836,\n",
      "         0.0000, 0.1663, 0.5140, 0.0000, 0.0000, 0.0000, 0.1954, 0.1066, 0.0000,\n",
      "         0.0146, 0.0000],\n",
      "        [0.0000, 0.0000, 0.0000, 0.0060, 0.1192, 0.0876, 0.0622, 0.0000, 0.5940,\n",
      "         0.0757, 0.0000, 0.2884, 0.0000, 0.0000, 0.0000, 0.2851, 0.3059, 0.0000,\n",
      "         0.1500, 0.0000],\n",
      "        [0.0000, 0.1150, 0.0000, 0.0000, 0.0387, 0.1558, 0.0000, 0.0000, 0.2739,\n",
      "         0.0000, 0.1433, 0.7659, 0.0000, 0.0000, 0.0000, 0.5962, 0.0000, 0.0000,\n",
      "         0.0000, 0.0000]], grad_fn=<ReluBackward0>)\n"
     ]
    }
   ],
   "source": [
    "print(f\"Before ReLU: {hidden1}\\n\\n\")\n",
    "hidden1 = nn.ReLU()(hidden1)\n",
    "print(f\"After ReLU: {hidden1}\")"
   ]
  },
  {
   "cell_type": "code",
   "execution_count": 17,
   "id": "80d7eb50",
   "metadata": {},
   "outputs": [],
   "source": [
    "seq_modules = nn.Sequential(\n",
    "    flatten,\n",
    "    layer1,\n",
    "    nn.ReLU(),\n",
    "    nn.Linear(20, 10)\n",
    ")\n",
    "input_image = torch.rand(3,28,28)\n",
    "logits = seq_modules(input_image)"
   ]
  },
  {
   "cell_type": "code",
   "execution_count": 18,
   "id": "7bcacca3",
   "metadata": {},
   "outputs": [],
   "source": [
    "softmax = nn.Softmax(dim=1)\n",
    "pred_probab = softmax(logits)"
   ]
  },
  {
   "cell_type": "code",
   "execution_count": 20,
   "id": "53babc65",
   "metadata": {},
   "outputs": [
    {
     "name": "stdout",
     "output_type": "stream",
     "text": [
      "Model structure:  NeuralNetwork(\n",
      "  (flatten): Flatten(start_dim=1, end_dim=-1)\n",
      "  (linear_relu_stack): Sequential(\n",
      "    (0): Linear(in_features=784, out_features=512, bias=True)\n",
      "    (1): ReLU()\n",
      "    (2): Linear(in_features=512, out_features=512, bias=True)\n",
      "    (3): ReLU()\n",
      "    (4): Linear(in_features=512, out_features=10, bias=True)\n",
      "  )\n",
      ") \n",
      "\n",
      "\n",
      "Layer: linear_relu_stack.0.weight | Size: torch.Size([512, 784]) | Values : tensor([[-0.0025, -0.0065, -0.0215,  ..., -0.0346, -0.0012, -0.0185],\n",
      "        [ 0.0048, -0.0119,  0.0245,  ..., -0.0223,  0.0062, -0.0219]],\n",
      "       grad_fn=<SliceBackward0>) \n",
      "\n",
      "Layer: linear_relu_stack.0.bias | Size: torch.Size([512]) | Values : tensor([0.0134, 0.0350], grad_fn=<SliceBackward0>) \n",
      "\n",
      "Layer: linear_relu_stack.2.weight | Size: torch.Size([512, 512]) | Values : tensor([[-0.0299,  0.0158,  0.0440,  ...,  0.0290, -0.0206,  0.0120],\n",
      "        [-0.0250,  0.0354,  0.0141,  ...,  0.0205, -0.0295, -0.0003]],\n",
      "       grad_fn=<SliceBackward0>) \n",
      "\n",
      "Layer: linear_relu_stack.2.bias | Size: torch.Size([512]) | Values : tensor([0.0122, 0.0186], grad_fn=<SliceBackward0>) \n",
      "\n",
      "Layer: linear_relu_stack.4.weight | Size: torch.Size([10, 512]) | Values : tensor([[ 0.0397, -0.0220,  0.0091,  ..., -0.0098, -0.0300,  0.0390],\n",
      "        [ 0.0339, -0.0204,  0.0373,  ...,  0.0059, -0.0257,  0.0252]],\n",
      "       grad_fn=<SliceBackward0>) \n",
      "\n",
      "Layer: linear_relu_stack.4.bias | Size: torch.Size([10]) | Values : tensor([0.0062, 0.0051], grad_fn=<SliceBackward0>) \n",
      "\n"
     ]
    }
   ],
   "source": [
    "print(\"Model structure: \", model, \"\\n\\n\")\n",
    "\n",
    "for name, param in model.named_parameters():\n",
    "    print(f\"Layer: {name} | Size: {param.size()} | Values : {param[:2]} \\n\")"
   ]
  },
  {
   "cell_type": "code",
   "execution_count": null,
   "id": "073a0fbe",
   "metadata": {},
   "outputs": [],
   "source": []
  }
 ],
 "metadata": {
  "kernelspec": {
   "display_name": "Python 3 (ipykernel)",
   "language": "python",
   "name": "python3"
  },
  "language_info": {
   "codemirror_mode": {
    "name": "ipython",
    "version": 3
   },
   "file_extension": ".py",
   "mimetype": "text/x-python",
   "name": "python",
   "nbconvert_exporter": "python",
   "pygments_lexer": "ipython3",
   "version": "3.9.7"
  }
 },
 "nbformat": 4,
 "nbformat_minor": 5
}
