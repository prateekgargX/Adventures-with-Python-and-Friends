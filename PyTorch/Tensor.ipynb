{
 "cells": [
  {
   "cell_type": "code",
   "execution_count": 1,
   "id": "f18a8c27",
   "metadata": {},
   "outputs": [],
   "source": [
    "import torch\n",
    "import numpy as np\n"
   ]
  },
  {
   "cell_type": "code",
   "execution_count": 2,
   "id": "b162fe9e",
   "metadata": {},
   "outputs": [],
   "source": [
    "data=[[1,2],[3,4]]\n",
    "x_data=torch.tensor(data)"
   ]
  },
  {
   "cell_type": "code",
   "execution_count": 3,
   "id": "310faf9b",
   "metadata": {},
   "outputs": [
    {
     "data": {
      "text/plain": [
       "tensor([[1, 2],\n",
       "        [3, 4]])"
      ]
     },
     "execution_count": 3,
     "metadata": {},
     "output_type": "execute_result"
    }
   ],
   "source": [
    "x_data"
   ]
  },
  {
   "cell_type": "code",
   "execution_count": 85,
   "id": "9c57248b",
   "metadata": {},
   "outputs": [],
   "source": [
    "npa=np.array(data)\n",
    "x_np=torch.tensor(npa)"
   ]
  },
  {
   "cell_type": "code",
   "execution_count": 86,
   "id": "e2a7c369",
   "metadata": {},
   "outputs": [
    {
     "name": "stdout",
     "output_type": "stream",
     "text": [
      "[[1 2]\n",
      " [3 4]]\n"
     ]
    },
    {
     "data": {
      "text/plain": [
       "tensor([[-9,  2],\n",
       "        [ 3,  4]], dtype=torch.int32)"
      ]
     },
     "execution_count": 86,
     "metadata": {},
     "output_type": "execute_result"
    }
   ],
   "source": [
    "x_np[0,0]=-9\n",
    "print(npa)\n",
    "x_np"
   ]
  },
  {
   "cell_type": "code",
   "execution_count": 6,
   "id": "ff5ac079",
   "metadata": {},
   "outputs": [
    {
     "data": {
      "text/plain": [
       "tensor([[1, 1],\n",
       "        [1, 1]])"
      ]
     },
     "execution_count": 6,
     "metadata": {},
     "output_type": "execute_result"
    }
   ],
   "source": [
    "torch.ones_like(x_data)"
   ]
  },
  {
   "cell_type": "code",
   "execution_count": 8,
   "id": "a6a956b8",
   "metadata": {},
   "outputs": [
    {
     "data": {
      "text/plain": [
       "tensor([[0.1534, 0.3196],\n",
       "        [0.1413, 0.2858]])"
      ]
     },
     "execution_count": 8,
     "metadata": {},
     "output_type": "execute_result"
    }
   ],
   "source": [
    "torch.rand_like(x_data, dtype=torch.float)"
   ]
  },
  {
   "cell_type": "code",
   "execution_count": 16,
   "id": "9f80831d",
   "metadata": {},
   "outputs": [
    {
     "data": {
      "text/plain": [
       "tensor([[0.2704, 0.4348],\n",
       "        [0.7928, 0.3686]])"
      ]
     },
     "execution_count": 16,
     "metadata": {},
     "output_type": "execute_result"
    }
   ],
   "source": [
    "torch.rand_like(x_data,dtype=torch.float)"
   ]
  },
  {
   "cell_type": "code",
   "execution_count": 28,
   "id": "4dc9dece",
   "metadata": {},
   "outputs": [
    {
     "data": {
      "text/plain": [
       "tensor([[0.6353, 0.0230, 0.0120],\n",
       "        [0.1922, 0.8552, 0.8484]])"
      ]
     },
     "execution_count": 28,
     "metadata": {},
     "output_type": "execute_result"
    }
   ],
   "source": [
    "shape=(2,3)\n",
    "torch.rand(shape)"
   ]
  },
  {
   "cell_type": "code",
   "execution_count": 31,
   "id": "2aa4ee33",
   "metadata": {},
   "outputs": [
    {
     "data": {
      "text/plain": [
       "tensor([[1., 1., 1.],\n",
       "        [1., 1., 1.]])"
      ]
     },
     "execution_count": 31,
     "metadata": {},
     "output_type": "execute_result"
    }
   ],
   "source": [
    "torch.ones(shape)"
   ]
  },
  {
   "cell_type": "code",
   "execution_count": 32,
   "id": "9302b198",
   "metadata": {},
   "outputs": [
    {
     "data": {
      "text/plain": [
       "tensor([[0., 0., 0.],\n",
       "        [0., 0., 0.]])"
      ]
     },
     "execution_count": 32,
     "metadata": {},
     "output_type": "execute_result"
    }
   ],
   "source": [
    "torch.zeros(shape)"
   ]
  },
  {
   "cell_type": "code",
   "execution_count": 37,
   "id": "e7aeb503",
   "metadata": {},
   "outputs": [],
   "source": [
    "tnt=torch.rand(3,4)"
   ]
  },
  {
   "cell_type": "code",
   "execution_count": 40,
   "id": "57f825f1",
   "metadata": {},
   "outputs": [
    {
     "data": {
      "text/plain": [
       "torch.float32"
      ]
     },
     "execution_count": 40,
     "metadata": {},
     "output_type": "execute_result"
    }
   ],
   "source": [
    "tnt.dtype"
   ]
  },
  {
   "cell_type": "code",
   "execution_count": 42,
   "id": "986c0404",
   "metadata": {},
   "outputs": [
    {
     "data": {
      "text/plain": [
       "torch.Size([3, 4])"
      ]
     },
     "execution_count": 42,
     "metadata": {},
     "output_type": "execute_result"
    }
   ],
   "source": [
    "tnt.device\n",
    "tnt.shape"
   ]
  },
  {
   "cell_type": "code",
   "execution_count": 44,
   "id": "15ff3640",
   "metadata": {},
   "outputs": [
    {
     "data": {
      "text/plain": [
       "array([[0.42937544, 2.92275254, 0.29222072],\n",
       "       [0.81072679, 0.80767071, 0.67343453]])"
      ]
     },
     "execution_count": 44,
     "metadata": {},
     "output_type": "execute_result"
    }
   ],
   "source": [
    "f=np.random.randn(2,3)\n",
    "f"
   ]
  },
  {
   "cell_type": "code",
   "execution_count": 45,
   "id": "aa0c69ec",
   "metadata": {},
   "outputs": [
    {
     "data": {
      "text/plain": [
       "tensor([[0.4294, 2.9228, 0.2922],\n",
       "        [0.8107, 0.8077, 0.6734]], dtype=torch.float64)"
      ]
     },
     "execution_count": 45,
     "metadata": {},
     "output_type": "execute_result"
    }
   ],
   "source": [
    "f_t=torch.tensor(f)\n",
    "f_t"
   ]
  },
  {
   "cell_type": "code",
   "execution_count": 47,
   "id": "2c8f8ae8",
   "metadata": {},
   "outputs": [
    {
     "data": {
      "text/plain": [
       "(2,)"
      ]
     },
     "execution_count": 47,
     "metadata": {},
     "output_type": "execute_result"
    }
   ],
   "source": [
    "f[:,0].shape"
   ]
  },
  {
   "cell_type": "code",
   "execution_count": 49,
   "id": "b8c0bb07",
   "metadata": {},
   "outputs": [],
   "source": [
    "g=np.random.randn(2,3,3)"
   ]
  },
  {
   "cell_type": "code",
   "execution_count": 50,
   "id": "f0e0a44e",
   "metadata": {},
   "outputs": [
    {
     "data": {
      "text/plain": [
       "array([[[ 1.26266086,  0.75357994, -0.07021182],\n",
       "        [ 0.37475508,  0.01352844,  0.5503734 ],\n",
       "        [ 1.26520848, -0.86322601,  1.57125082]],\n",
       "\n",
       "       [[-0.95707136, -0.7341658 ,  0.74163095],\n",
       "        [-1.82959922,  0.03472061,  0.07863003],\n",
       "        [ 2.00072134,  1.06651647,  0.88663415]]])"
      ]
     },
     "execution_count": 50,
     "metadata": {},
     "output_type": "execute_result"
    }
   ],
   "source": [
    "g"
   ]
  },
  {
   "cell_type": "code",
   "execution_count": 51,
   "id": "f18ff753",
   "metadata": {},
   "outputs": [
    {
     "data": {
      "text/plain": [
       "array([[ 1.26266086,  0.75357994, -0.07021182],\n",
       "       [-0.95707136, -0.7341658 ,  0.74163095]])"
      ]
     },
     "execution_count": 51,
     "metadata": {},
     "output_type": "execute_result"
    }
   ],
   "source": [
    "g[:,0]"
   ]
  },
  {
   "cell_type": "code",
   "execution_count": 52,
   "id": "622bed36",
   "metadata": {},
   "outputs": [
    {
     "data": {
      "text/plain": [
       "array([[ 1.26266086,  0.37475508,  1.26520848],\n",
       "       [-0.95707136, -1.82959922,  2.00072134]])"
      ]
     },
     "execution_count": 52,
     "metadata": {},
     "output_type": "execute_result"
    }
   ],
   "source": [
    "g[:,:,0]"
   ]
  },
  {
   "cell_type": "code",
   "execution_count": 54,
   "id": "56fb94f0",
   "metadata": {},
   "outputs": [
    {
     "data": {
      "text/plain": [
       "(2,)"
      ]
     },
     "execution_count": 54,
     "metadata": {},
     "output_type": "execute_result"
    }
   ],
   "source": [
    "g[:,0,1].shape"
   ]
  },
  {
   "cell_type": "code",
   "execution_count": 57,
   "id": "c05cd47b",
   "metadata": {},
   "outputs": [
    {
     "data": {
      "text/plain": [
       "torch.Size([2, 3])"
      ]
     },
     "execution_count": 57,
     "metadata": {},
     "output_type": "execute_result"
    }
   ],
   "source": [
    "f_t.shape\n"
   ]
  },
  {
   "cell_type": "code",
   "execution_count": 58,
   "id": "f91e1661",
   "metadata": {},
   "outputs": [],
   "source": [
    "f2=torch.cat([f_t,f_t],dim=1 )"
   ]
  },
  {
   "cell_type": "code",
   "execution_count": 59,
   "id": "a1e5310a",
   "metadata": {},
   "outputs": [
    {
     "data": {
      "text/plain": [
       "tensor([[0.4294, 2.9228, 0.2922, 0.4294, 2.9228, 0.2922],\n",
       "        [0.8107, 0.8077, 0.6734, 0.8107, 0.8077, 0.6734]], dtype=torch.float64)"
      ]
     },
     "execution_count": 59,
     "metadata": {},
     "output_type": "execute_result"
    }
   ],
   "source": [
    "f2"
   ]
  },
  {
   "cell_type": "code",
   "execution_count": 63,
   "id": "321d384e",
   "metadata": {},
   "outputs": [
    {
     "data": {
      "text/plain": [
       "tensor([[0.3884, 0.4374, 0.8579, 0.1447],\n",
       "        [0.5484, 0.7114, 0.9389, 0.0263],\n",
       "        [0.9594, 0.2848, 0.9507, 0.1526],\n",
       "        [0.9179, 0.5452, 0.0141, 0.3829]])"
      ]
     },
     "execution_count": 63,
     "metadata": {},
     "output_type": "execute_result"
    }
   ],
   "source": [
    "tensor= torch.rand(4,4)\n",
    "tensor"
   ]
  },
  {
   "cell_type": "code",
   "execution_count": 64,
   "id": "3b298380",
   "metadata": {},
   "outputs": [],
   "source": [
    "y1= tensor @ tensor.T"
   ]
  },
  {
   "cell_type": "code",
   "execution_count": 65,
   "id": "c1150f20",
   "metadata": {},
   "outputs": [
    {
     "data": {
      "text/plain": [
       "tensor([[1.0990, 1.3334, 1.3348, 0.6625],\n",
       "        [1.3334, 1.6891, 1.6253, 0.9146],\n",
       "        [1.3348, 1.6253, 1.9286, 1.1078],\n",
       "        [0.6625, 0.9146, 1.1078, 1.2866]])"
      ]
     },
     "execution_count": 65,
     "metadata": {},
     "output_type": "execute_result"
    }
   ],
   "source": [
    "y1"
   ]
  },
  {
   "cell_type": "code",
   "execution_count": 66,
   "id": "3622732e",
   "metadata": {},
   "outputs": [
    {
     "data": {
      "text/plain": [
       "tensor([[1.0990, 1.3334, 1.3348, 0.6625],\n",
       "        [1.3334, 1.6891, 1.6253, 0.9146],\n",
       "        [1.3348, 1.6253, 1.9286, 1.1078],\n",
       "        [0.6625, 0.9146, 1.1078, 1.2866]])"
      ]
     },
     "execution_count": 66,
     "metadata": {},
     "output_type": "execute_result"
    }
   ],
   "source": [
    "y2=tensor.matmul(tensor.T)\n",
    "y2"
   ]
  },
  {
   "cell_type": "code",
   "execution_count": 67,
   "id": "bf82b88c",
   "metadata": {},
   "outputs": [
    {
     "data": {
      "text/plain": [
       "tensor([[1.0990, 1.3334, 1.3348, 0.6625],\n",
       "        [1.3334, 1.6891, 1.6253, 0.9146],\n",
       "        [1.3348, 1.6253, 1.9286, 1.1078],\n",
       "        [0.6625, 0.9146, 1.1078, 1.2866]])"
      ]
     },
     "execution_count": 67,
     "metadata": {},
     "output_type": "execute_result"
    }
   ],
   "source": [
    "y3=torch.rand_like(tensor)\n",
    "torch.matmul(tensor, tensor.T, out=y3)\n",
    "y3"
   ]
  },
  {
   "cell_type": "code",
   "execution_count": 68,
   "id": "4e8cdd31",
   "metadata": {},
   "outputs": [
    {
     "data": {
      "text/plain": [
       "tensor([[1.5082e-01, 1.9131e-01, 7.3592e-01, 2.0929e-02],\n",
       "        [3.0072e-01, 5.0615e-01, 8.8150e-01, 6.9329e-04],\n",
       "        [9.2036e-01, 8.1105e-02, 9.0379e-01, 2.3289e-02],\n",
       "        [8.4258e-01, 2.9719e-01, 2.0016e-04, 1.4664e-01]])"
      ]
     },
     "execution_count": 68,
     "metadata": {},
     "output_type": "execute_result"
    }
   ],
   "source": [
    "z1=tensor*tensor\n",
    "z1"
   ]
  },
  {
   "cell_type": "code",
   "execution_count": 70,
   "id": "134eacdb",
   "metadata": {},
   "outputs": [
    {
     "data": {
      "text/plain": [
       "tensor([[1.5082e-01, 1.9131e-01, 7.3592e-01, 2.0929e-02],\n",
       "        [3.0072e-01, 5.0615e-01, 8.8150e-01, 6.9329e-04],\n",
       "        [9.2036e-01, 8.1105e-02, 9.0379e-01, 2.3289e-02],\n",
       "        [8.4258e-01, 2.9719e-01, 2.0016e-04, 1.4664e-01]])"
      ]
     },
     "execution_count": 70,
     "metadata": {},
     "output_type": "execute_result"
    }
   ],
   "source": [
    "z2=tensor.mul(tensor)\n",
    "z2"
   ]
  },
  {
   "cell_type": "code",
   "execution_count": 71,
   "id": "081f553f",
   "metadata": {},
   "outputs": [],
   "source": [
    "agg=tensor.sum()"
   ]
  },
  {
   "cell_type": "code",
   "execution_count": 72,
   "id": "85d8b9b6",
   "metadata": {},
   "outputs": [
    {
     "data": {
      "text/plain": [
       "tensor(8.2609)"
      ]
     },
     "execution_count": 72,
     "metadata": {},
     "output_type": "execute_result"
    }
   ],
   "source": [
    "agg"
   ]
  },
  {
   "cell_type": "code",
   "execution_count": 73,
   "id": "11dba190",
   "metadata": {},
   "outputs": [],
   "source": [
    "d=agg.item()"
   ]
  },
  {
   "cell_type": "code",
   "execution_count": 75,
   "id": "c93189f7",
   "metadata": {},
   "outputs": [
    {
     "data": {
      "text/plain": [
       "float"
      ]
     },
     "execution_count": 75,
     "metadata": {},
     "output_type": "execute_result"
    }
   ],
   "source": [
    "type(d)"
   ]
  },
  {
   "cell_type": "code",
   "execution_count": 76,
   "id": "4037482e",
   "metadata": {},
   "outputs": [
    {
     "name": "stdout",
     "output_type": "stream",
     "text": [
      "<class 'float'>\n"
     ]
    }
   ],
   "source": [
    "print(type(d))"
   ]
  },
  {
   "cell_type": "code",
   "execution_count": 77,
   "id": "8e91f1dc",
   "metadata": {},
   "outputs": [
    {
     "name": "stdout",
     "output_type": "stream",
     "text": [
      "tensor([[0.3884, 0.4374, 0.8579, 0.1447],\n",
      "        [0.5484, 0.7114, 0.9389, 0.0263],\n",
      "        [0.9594, 0.2848, 0.9507, 0.1526],\n",
      "        [0.9179, 0.5452, 0.0141, 0.3829]])\n",
      "tensor([[3.3884, 3.4374, 3.8579, 3.1447],\n",
      "        [3.5484, 3.7114, 3.9389, 3.0263],\n",
      "        [3.9594, 3.2848, 3.9507, 3.1526],\n",
      "        [3.9179, 3.5452, 3.0141, 3.3829]])\n"
     ]
    }
   ],
   "source": [
    "print(tensor)\n",
    "tensor.add_(3)\n",
    "print(tensor)"
   ]
  },
  {
   "cell_type": "code",
   "execution_count": 78,
   "id": "ba428b60",
   "metadata": {},
   "outputs": [
    {
     "data": {
      "text/plain": [
       "tensor([[3.3884, 3.5484, 3.9594, 3.9179],\n",
       "        [3.4374, 3.7114, 3.2848, 3.5452],\n",
       "        [3.8579, 3.9389, 3.9507, 3.0141],\n",
       "        [3.1447, 3.0263, 3.1526, 3.3829]])"
      ]
     },
     "execution_count": 78,
     "metadata": {},
     "output_type": "execute_result"
    }
   ],
   "source": [
    "tensor.t_()"
   ]
  },
  {
   "cell_type": "code",
   "execution_count": 79,
   "id": "f075d519",
   "metadata": {},
   "outputs": [
    {
     "data": {
      "text/plain": [
       "tensor([[3.3884, 3.5484, 3.9594, 3.9179],\n",
       "        [3.4374, 3.7114, 3.2848, 3.5452],\n",
       "        [3.8579, 3.9389, 3.9507, 3.0141],\n",
       "        [3.1447, 3.0263, 3.1526, 3.3829]])"
      ]
     },
     "execution_count": 79,
     "metadata": {},
     "output_type": "execute_result"
    }
   ],
   "source": [
    "tensor"
   ]
  },
  {
   "cell_type": "code",
   "execution_count": 80,
   "id": "edd645ce",
   "metadata": {},
   "outputs": [
    {
     "name": "stdout",
     "output_type": "stream",
     "text": [
      "[[3.3883617 3.5483825 3.9593563 3.917919 ]\n",
      " [3.4373922 3.711441  3.284789  3.5451546]\n",
      " [3.8578563 3.9388819 3.9506812 3.0141478]\n",
      " [3.1446671 3.0263305 3.1526065 3.3829403]]\n"
     ]
    }
   ],
   "source": [
    "v=tensor.numpy()\n",
    "print(v)"
   ]
  },
  {
   "cell_type": "code",
   "execution_count": 81,
   "id": "22dc165f",
   "metadata": {},
   "outputs": [
    {
     "ename": "NameError",
     "evalue": "name 't' is not defined",
     "output_type": "error",
     "traceback": [
      "\u001b[1;31m---------------------------------------------------------------------------\u001b[0m",
      "\u001b[1;31mNameError\u001b[0m                                 Traceback (most recent call last)",
      "\u001b[1;32m~\\AppData\\Local\\Temp/ipykernel_6084/3126077660.py\u001b[0m in \u001b[0;36m<module>\u001b[1;34m\u001b[0m\n\u001b[1;32m----> 1\u001b[1;33m \u001b[0mt\u001b[0m\u001b[1;33m.\u001b[0m\u001b[0madd_\u001b[0m\u001b[1;33m(\u001b[0m\u001b[1;36m1\u001b[0m\u001b[1;33m)\u001b[0m\u001b[1;33m\u001b[0m\u001b[1;33m\u001b[0m\u001b[0m\n\u001b[0m",
      "\u001b[1;31mNameError\u001b[0m: name 't' is not defined"
     ]
    }
   ],
   "source": [
    "t.add_(1)"
   ]
  },
  {
   "cell_type": "code",
   "execution_count": 82,
   "id": "7cdb45a6",
   "metadata": {},
   "outputs": [
    {
     "data": {
      "text/plain": [
       "tensor([[4.3884, 4.5484, 4.9594, 4.9179],\n",
       "        [4.4374, 4.7114, 4.2848, 4.5452],\n",
       "        [4.8579, 4.9389, 4.9507, 4.0141],\n",
       "        [4.1447, 4.0263, 4.1526, 4.3829]])"
      ]
     },
     "execution_count": 82,
     "metadata": {},
     "output_type": "execute_result"
    }
   ],
   "source": [
    "tensor.add_(1)"
   ]
  },
  {
   "cell_type": "code",
   "execution_count": 83,
   "id": "cced2715",
   "metadata": {},
   "outputs": [
    {
     "data": {
      "text/plain": [
       "array([[4.388362 , 4.5483828, 4.9593563, 4.917919 ],\n",
       "       [4.437392 , 4.711441 , 4.284789 , 4.5451546],\n",
       "       [4.8578563, 4.938882 , 4.950681 , 4.0141478],\n",
       "       [4.144667 , 4.0263305, 4.1526065, 4.3829403]], dtype=float32)"
      ]
     },
     "execution_count": 83,
     "metadata": {},
     "output_type": "execute_result"
    }
   ],
   "source": [
    "v"
   ]
  },
  {
   "cell_type": "code",
   "execution_count": 88,
   "id": "4c90839b",
   "metadata": {},
   "outputs": [],
   "source": [
    "g=np.random.randn(4,5)"
   ]
  },
  {
   "cell_type": "code",
   "execution_count": 89,
   "id": "df9bac39",
   "metadata": {},
   "outputs": [
    {
     "data": {
      "text/plain": [
       "array([[ 2.24165796,  0.75637395,  1.0977243 ,  0.78153287, -0.68261304],\n",
       "       [ 0.35505666,  0.61860565,  0.41466459, -0.76288306, -0.80351349],\n",
       "       [-0.05208719,  0.25324731,  2.13123498, -0.45031568,  0.10117564],\n",
       "       [ 0.84659545, -1.71948947, -0.86305372, -1.08588658, -0.11509593]])"
      ]
     },
     "execution_count": 89,
     "metadata": {},
     "output_type": "execute_result"
    }
   ],
   "source": [
    "g"
   ]
  },
  {
   "cell_type": "code",
   "execution_count": 91,
   "id": "ca0372bd",
   "metadata": {},
   "outputs": [],
   "source": [
    "t=torch.from_numpy(g)"
   ]
  },
  {
   "cell_type": "code",
   "execution_count": 92,
   "id": "65c3e755",
   "metadata": {},
   "outputs": [
    {
     "data": {
      "text/plain": [
       "tensor([[ 2.2417,  0.7564,  1.0977,  0.7815, -0.6826],\n",
       "        [ 0.3551,  0.6186,  0.4147, -0.7629, -0.8035],\n",
       "        [-0.0521,  0.2532,  2.1312, -0.4503,  0.1012],\n",
       "        [ 0.8466, -1.7195, -0.8631, -1.0859, -0.1151]], dtype=torch.float64)"
      ]
     },
     "execution_count": 92,
     "metadata": {},
     "output_type": "execute_result"
    }
   ],
   "source": [
    "t"
   ]
  },
  {
   "cell_type": "code",
   "execution_count": 93,
   "id": "2c1f096a",
   "metadata": {},
   "outputs": [],
   "source": [
    "t[0,0]=769999"
   ]
  },
  {
   "cell_type": "code",
   "execution_count": 94,
   "id": "a8be2973",
   "metadata": {},
   "outputs": [
    {
     "data": {
      "text/plain": [
       "array([[ 7.69999000e+05,  7.56373955e-01,  1.09772430e+00,\n",
       "         7.81532869e-01, -6.82613036e-01],\n",
       "       [ 3.55056657e-01,  6.18605648e-01,  4.14664592e-01,\n",
       "        -7.62883062e-01, -8.03513494e-01],\n",
       "       [-5.20871854e-02,  2.53247312e-01,  2.13123498e+00,\n",
       "        -4.50315679e-01,  1.01175640e-01],\n",
       "       [ 8.46595449e-01, -1.71948947e+00, -8.63053715e-01,\n",
       "        -1.08588658e+00, -1.15095929e-01]])"
      ]
     },
     "execution_count": 94,
     "metadata": {},
     "output_type": "execute_result"
    }
   ],
   "source": [
    "g"
   ]
  },
  {
   "cell_type": "code",
   "execution_count": null,
   "id": "f0e3eabb",
   "metadata": {},
   "outputs": [],
   "source": [
    "\n"
   ]
  }
 ],
 "metadata": {
  "kernelspec": {
   "display_name": "Python 3 (ipykernel)",
   "language": "python",
   "name": "python3"
  },
  "language_info": {
   "codemirror_mode": {
    "name": "ipython",
    "version": 3
   },
   "file_extension": ".py",
   "mimetype": "text/x-python",
   "name": "python",
   "nbconvert_exporter": "python",
   "pygments_lexer": "ipython3",
   "version": "3.9.7"
  }
 },
 "nbformat": 4,
 "nbformat_minor": 5
}
